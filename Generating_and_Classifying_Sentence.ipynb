{
 "cells": [
  {
   "cell_type": "code",
   "execution_count": 20,
   "id": "7026c7e0",
   "metadata": {},
   "outputs": [],
   "source": [
    "from collections import Counter, OrderedDict\n",
    "from itertools import product\n",
    "import matplotlib.pyplot as plt\n",
    "from random import choices\n",
    "\n",
    "import numpy as np\n",
    "import string\n",
    "import sys\n",
    "import re\n",
    "import math\n",
    "\n",
    "with open('Coco Script.txt', encoding='utf-8') as f:\n",
    "    data = f.read()\n",
    "\n",
    "data = data.lower()\n",
    "data = data.translate(str.maketrans('', '', string.punctuation))\n",
    "data = re.sub('[^a-z]+', ' ', data)\n",
    "data = ' '.join(data.split(' '))\n",
    "\n",
    "allchar = ' ' + string.ascii_lowercase"
   ]
  },
  {
   "cell_type": "code",
   "execution_count": 21,
   "id": "fb041883",
   "metadata": {},
   "outputs": [],
   "source": [
    "unigram = Counter(data)\n",
    "unigram_prob = {ch: round((unigram[ch]) / (len(data)), 4) for ch in allchar}\n",
    "\n",
    "uni_list = [unigram_prob[c] for c in allchar]"
   ]
  },
  {
   "cell_type": "code",
   "execution_count": 22,
   "id": "85f4f30b",
   "metadata": {},
   "outputs": [
    {
     "name": "stdout",
     "output_type": "stream",
     "text": [
      "True\n"
     ]
    }
   ],
   "source": [
    "print((np.array(uni_list) > 0).all())\n",
    "diff = 1 - sum(uni_list)\n",
    "uni_list[0] += diff\n",
    "np.savetxt(\"uni.txt\", np.reshape(np.array(uni_list), (1, -1)), fmt='%.4f', delimiter=',')"
   ]
  },
  {
   "cell_type": "code",
   "execution_count": 25,
   "id": "ff6b75f5",
   "metadata": {},
   "outputs": [],
   "source": [
    "def ngram(n):\n",
    "    # all possible n-grams\n",
    "    d = dict.fromkeys([''.join(i) for i in product(allchar, repeat=n)],0)\n",
    "    # update counts\n",
    "    d.update(Counter([''.join(j) for j in zip(*[data[i:] for i in range(n)])]))\n",
    "    return d\n",
    "\n",
    "bigram = ngram(2)\n",
    "bigram_prob = {c: bigram[c] / unigram[c[0]] for c in bigram}\n",
    "np.savetxt(\"big.txt\", np.array(list(bigram_prob.values())).reshape((27, 27)), fmt='%.4f', delimiter=',')"
   ]
  },
  {
   "cell_type": "code",
   "execution_count": 26,
   "id": "d6d7c3d4",
   "metadata": {},
   "outputs": [
    {
     "name": "stdout",
     "output_type": "stream",
     "text": [
      "True\n",
      "True\n"
     ]
    }
   ],
   "source": [
    "bigram_prob = {c: round((bigram[c]+1) / (unigram[c[0]]+27), 4) for c in bigram} # p(b|a)\n",
    "big_list = list(bigram_prob.values())\n",
    "big_list[big_list==0]+=0.0001\n",
    "print((np.array(big_list) > 0).all())\n",
    "big_array = np.array(list(bigram_prob.values())).reshape((27, 27))\n",
    "big_array[:,0] += 1-np.sum(big_array, axis=1)\n",
    "big_array[0,0] += 0.0002\n",
    "big_array[0,1] -= 0.0002\n",
    "print((np.array(big_list) > 0).all())\n",
    "np.savetxt(\"big.txt\", big_array, fmt='%.4f', delimiter=',')"
   ]
  },
  {
   "cell_type": "code",
   "execution_count": 27,
   "id": "43f01830",
   "metadata": {},
   "outputs": [],
   "source": [
    "bigram_prob = {c: round((bigram[c]+1) / (unigram[c[0]]+27), 4) for c in bigram} # p(b|a)\n",
    "t = 0\n",
    "sum_value = 0.0\n",
    "for key, value in bigram_prob.items():\n",
    "    if value == 0:\n",
    "        bigram_prob[key] += 0.0001\n",
    "    t+=1\n",
    "    sum_value += bigram_prob[key]\n",
    "    if t%27 == 0:\n",
    "        bigram_prob[key] += round(1-sum_value, 4)\n",
    "        sum_value = 0.0"
   ]
  },
  {
   "cell_type": "code",
   "execution_count": 28,
   "id": "52d42813",
   "metadata": {},
   "outputs": [
    {
     "name": "stdout",
     "output_type": "stream",
     "text": [
      "False\n",
      "[1. 1. 1. 1. 1. 1. 1. 1. 1. 1. 1. 1. 1. 1. 1. 1. 1. 1. 1. 1. 1. 1. 1. 1.\n",
      " 1. 1. 1.]\n"
     ]
    }
   ],
   "source": [
    "big_array = np.array(list(bigram_prob.values())).reshape((27, 27))\n",
    "print((big_array > 0).all())\n",
    "print(np.sum(big_array, axis=1))\n",
    "np.savetxt(\"big.txt\", big_array, fmt='%.4f', delimiter=',')"
   ]
  },
  {
   "cell_type": "code",
   "execution_count": 29,
   "id": "bc9761cc",
   "metadata": {},
   "outputs": [],
   "source": [
    "bigram_prob[' z']+=0.0002\n",
    "bigram_prob[' y']-=0.0002\n",
    "bigram_prob['hz']+=0.0002\n",
    "bigram_prob['hy']-=0.0002\n",
    "bigram_prob['mz']+=0.0004\n",
    "bigram_prob['my']-=0.0004\n",
    "bigram_prob['sz']+=0.0002\n",
    "bigram_prob['sy']-=0.0002"
   ]
  },
  {
   "cell_type": "code",
   "execution_count": 30,
   "id": "745404d3",
   "metadata": {},
   "outputs": [
    {
     "name": "stdout",
     "output_type": "stream",
     "text": [
      "True\n",
      "[1. 1. 1. 1. 1. 1. 1. 1. 1. 1. 1. 1. 1. 1. 1. 1. 1. 1. 1. 1. 1. 1. 1. 1.\n",
      " 1. 1. 1.]\n"
     ]
    }
   ],
   "source": [
    "big_array = np.array(list(bigram_prob.values())).reshape((27, 27))\n",
    "print((big_array > 0).all())\n",
    "print(np.sum(big_array, axis=1))"
   ]
  },
  {
   "cell_type": "code",
   "execution_count": 31,
   "id": "3b60f9b5",
   "metadata": {},
   "outputs": [],
   "source": [
    "trigram = ngram(3)\n",
    "trigram_prob = {c: round((trigram[c]+1) / (bigram[c[:2]]+27), 4) for c in trigram}\n",
    "t = 0\n",
    "sum_value = 0.0\n",
    "for key, value in trigram_prob.items():\n",
    "    if value == 0:\n",
    "        trigram_prob[key] += 0.0001\n",
    "    t+=1\n",
    "    sum_value += trigram_prob[key]\n",
    "    if t%27 == 0:\n",
    "        trigram_prob[key] += round(1-sum_value, 4)\n",
    "        sum_value = 0.0"
   ]
  },
  {
   "cell_type": "code",
   "execution_count": 32,
   "id": "05d720b3",
   "metadata": {},
   "outputs": [
    {
     "name": "stdout",
     "output_type": "stream",
     "text": [
      "False\n",
      "[1. 1. 1. 1. 1. 1. 1. 1. 1. 1. 1. 1. 1. 1. 1. 1. 1. 1. 1. 1. 1. 1. 1. 1.\n",
      " 1. 1. 1. 1. 1. 1. 1. 1. 1. 1. 1. 1. 1. 1. 1. 1. 1. 1. 1. 1. 1. 1. 1. 1.\n",
      " 1. 1. 1. 1. 1. 1. 1. 1. 1. 1. 1. 1. 1. 1. 1. 1. 1. 1. 1. 1. 1. 1. 1. 1.\n",
      " 1. 1. 1. 1. 1. 1. 1. 1. 1. 1. 1. 1. 1. 1. 1. 1. 1. 1. 1. 1. 1. 1. 1. 1.\n",
      " 1. 1. 1. 1. 1. 1. 1. 1. 1. 1. 1. 1. 1. 1. 1. 1. 1. 1. 1. 1. 1. 1. 1. 1.\n",
      " 1. 1. 1. 1. 1. 1. 1. 1. 1. 1. 1. 1. 1. 1. 1. 1. 1. 1. 1. 1. 1. 1. 1. 1.\n",
      " 1. 1. 1. 1. 1. 1. 1. 1. 1. 1. 1. 1. 1. 1. 1. 1. 1. 1. 1. 1. 1. 1. 1. 1.\n",
      " 1. 1. 1. 1. 1. 1. 1. 1. 1. 1. 1. 1. 1. 1. 1. 1. 1. 1. 1. 1. 1. 1. 1. 1.\n",
      " 1. 1. 1. 1. 1. 1. 1. 1. 1. 1. 1. 1. 1. 1. 1. 1. 1. 1. 1. 1. 1. 1. 1. 1.\n",
      " 1. 1. 1. 1. 1. 1. 1. 1. 1. 1. 1. 1. 1. 1. 1. 1. 1. 1. 1. 1. 1. 1. 1. 1.\n",
      " 1. 1. 1. 1. 1. 1. 1. 1. 1. 1. 1. 1. 1. 1. 1. 1. 1. 1. 1. 1. 1. 1. 1. 1.\n",
      " 1. 1. 1. 1. 1. 1. 1. 1. 1. 1. 1. 1. 1. 1. 1. 1. 1. 1. 1. 1. 1. 1. 1. 1.\n",
      " 1. 1. 1. 1. 1. 1. 1. 1. 1. 1. 1. 1. 1. 1. 1. 1. 1. 1. 1. 1. 1. 1. 1. 1.\n",
      " 1. 1. 1. 1. 1. 1. 1. 1. 1. 1. 1. 1. 1. 1. 1. 1. 1. 1. 1. 1. 1. 1. 1. 1.\n",
      " 1. 1. 1. 1. 1. 1. 1. 1. 1. 1. 1. 1. 1. 1. 1. 1. 1. 1. 1. 1. 1. 1. 1. 1.\n",
      " 1. 1. 1. 1. 1. 1. 1. 1. 1. 1. 1. 1. 1. 1. 1. 1. 1. 1. 1. 1. 1. 1. 1. 1.\n",
      " 1. 1. 1. 1. 1. 1. 1. 1. 1. 1. 1. 1. 1. 1. 1. 1. 1. 1. 1. 1. 1. 1. 1. 1.\n",
      " 1. 1. 1. 1. 1. 1. 1. 1. 1. 1. 1. 1. 1. 1. 1. 1. 1. 1. 1. 1. 1. 1. 1. 1.\n",
      " 1. 1. 1. 1. 1. 1. 1. 1. 1. 1. 1. 1. 1. 1. 1. 1. 1. 1. 1. 1. 1. 1. 1. 1.\n",
      " 1. 1. 1. 1. 1. 1. 1. 1. 1. 1. 1. 1. 1. 1. 1. 1. 1. 1. 1. 1. 1. 1. 1. 1.\n",
      " 1. 1. 1. 1. 1. 1. 1. 1. 1. 1. 1. 1. 1. 1. 1. 1. 1. 1. 1. 1. 1. 1. 1. 1.\n",
      " 1. 1. 1. 1. 1. 1. 1. 1. 1. 1. 1. 1. 1. 1. 1. 1. 1. 1. 1. 1. 1. 1. 1. 1.\n",
      " 1. 1. 1. 1. 1. 1. 1. 1. 1. 1. 1. 1. 1. 1. 1. 1. 1. 1. 1. 1. 1. 1. 1. 1.\n",
      " 1. 1. 1. 1. 1. 1. 1. 1. 1. 1. 1. 1. 1. 1. 1. 1. 1. 1. 1. 1. 1. 1. 1. 1.\n",
      " 1. 1. 1. 1. 1. 1. 1. 1. 1. 1. 1. 1. 1. 1. 1. 1. 1. 1. 1. 1. 1. 1. 1. 1.\n",
      " 1. 1. 1. 1. 1. 1. 1. 1. 1. 1. 1. 1. 1. 1. 1. 1. 1. 1. 1. 1. 1. 1. 1. 1.\n",
      " 1. 1. 1. 1. 1. 1. 1. 1. 1. 1. 1. 1. 1. 1. 1. 1. 1. 1. 1. 1. 1. 1. 1. 1.\n",
      " 1. 1. 1. 1. 1. 1. 1. 1. 1. 1. 1. 1. 1. 1. 1. 1. 1. 1. 1. 1. 1. 1. 1. 1.\n",
      " 1. 1. 1. 1. 1. 1. 1. 1. 1. 1. 1. 1. 1. 1. 1. 1. 1. 1. 1. 1. 1. 1. 1. 1.\n",
      " 1. 1. 1. 1. 1. 1. 1. 1. 1. 1. 1. 1. 1. 1. 1. 1. 1. 1. 1. 1. 1. 1. 1. 1.\n",
      " 1. 1. 1. 1. 1. 1. 1. 1. 1.]\n"
     ]
    }
   ],
   "source": [
    "tri_array = np.array(list(trigram_prob.values())).reshape((27*27, 27))\n",
    "print((tri_array > 0).all())\n",
    "print(np.sum(tri_array, axis=1))"
   ]
  },
  {
   "cell_type": "code",
   "execution_count": 33,
   "id": "7bbe1330",
   "metadata": {},
   "outputs": [],
   "source": [
    "trigram_prob[' tz'] += 0.0004\n",
    "trigram_prob[' tw'] -= 0.0004\n",
    "trigram_prob[' hz'] += 0.0005\n",
    "trigram_prob[' hy'] -= 0.0005"
   ]
  },
  {
   "cell_type": "code",
   "execution_count": 34,
   "id": "b61a36f8",
   "metadata": {},
   "outputs": [
    {
     "name": "stdout",
     "output_type": "stream",
     "text": [
      "True\n",
      "[1. 1. 1. 1. 1. 1. 1. 1. 1. 1. 1. 1. 1. 1. 1. 1. 1. 1. 1. 1. 1. 1. 1. 1.\n",
      " 1. 1. 1. 1. 1. 1. 1. 1. 1. 1. 1. 1. 1. 1. 1. 1. 1. 1. 1. 1. 1. 1. 1. 1.\n",
      " 1. 1. 1. 1. 1. 1. 1. 1. 1. 1. 1. 1. 1. 1. 1. 1. 1. 1. 1. 1. 1. 1. 1. 1.\n",
      " 1. 1. 1. 1. 1. 1. 1. 1. 1. 1. 1. 1. 1. 1. 1. 1. 1. 1. 1. 1. 1. 1. 1. 1.\n",
      " 1. 1. 1. 1. 1. 1. 1. 1. 1. 1. 1. 1. 1. 1. 1. 1. 1. 1. 1. 1. 1. 1. 1. 1.\n",
      " 1. 1. 1. 1. 1. 1. 1. 1. 1. 1. 1. 1. 1. 1. 1. 1. 1. 1. 1. 1. 1. 1. 1. 1.\n",
      " 1. 1. 1. 1. 1. 1. 1. 1. 1. 1. 1. 1. 1. 1. 1. 1. 1. 1. 1. 1. 1. 1. 1. 1.\n",
      " 1. 1. 1. 1. 1. 1. 1. 1. 1. 1. 1. 1. 1. 1. 1. 1. 1. 1. 1. 1. 1. 1. 1. 1.\n",
      " 1. 1. 1. 1. 1. 1. 1. 1. 1. 1. 1. 1. 1. 1. 1. 1. 1. 1. 1. 1. 1. 1. 1. 1.\n",
      " 1. 1. 1. 1. 1. 1. 1. 1. 1. 1. 1. 1. 1. 1. 1. 1. 1. 1. 1. 1. 1. 1. 1. 1.\n",
      " 1. 1. 1. 1. 1. 1. 1. 1. 1. 1. 1. 1. 1. 1. 1. 1. 1. 1. 1. 1. 1. 1. 1. 1.\n",
      " 1. 1. 1. 1. 1. 1. 1. 1. 1. 1. 1. 1. 1. 1. 1. 1. 1. 1. 1. 1. 1. 1. 1. 1.\n",
      " 1. 1. 1. 1. 1. 1. 1. 1. 1. 1. 1. 1. 1. 1. 1. 1. 1. 1. 1. 1. 1. 1. 1. 1.\n",
      " 1. 1. 1. 1. 1. 1. 1. 1. 1. 1. 1. 1. 1. 1. 1. 1. 1. 1. 1. 1. 1. 1. 1. 1.\n",
      " 1. 1. 1. 1. 1. 1. 1. 1. 1. 1. 1. 1. 1. 1. 1. 1. 1. 1. 1. 1. 1. 1. 1. 1.\n",
      " 1. 1. 1. 1. 1. 1. 1. 1. 1. 1. 1. 1. 1. 1. 1. 1. 1. 1. 1. 1. 1. 1. 1. 1.\n",
      " 1. 1. 1. 1. 1. 1. 1. 1. 1. 1. 1. 1. 1. 1. 1. 1. 1. 1. 1. 1. 1. 1. 1. 1.\n",
      " 1. 1. 1. 1. 1. 1. 1. 1. 1. 1. 1. 1. 1. 1. 1. 1. 1. 1. 1. 1. 1. 1. 1. 1.\n",
      " 1. 1. 1. 1. 1. 1. 1. 1. 1. 1. 1. 1. 1. 1. 1. 1. 1. 1. 1. 1. 1. 1. 1. 1.\n",
      " 1. 1. 1. 1. 1. 1. 1. 1. 1. 1. 1. 1. 1. 1. 1. 1. 1. 1. 1. 1. 1. 1. 1. 1.\n",
      " 1. 1. 1. 1. 1. 1. 1. 1. 1. 1. 1. 1. 1. 1. 1. 1. 1. 1. 1. 1. 1. 1. 1. 1.\n",
      " 1. 1. 1. 1. 1. 1. 1. 1. 1. 1. 1. 1. 1. 1. 1. 1. 1. 1. 1. 1. 1. 1. 1. 1.\n",
      " 1. 1. 1. 1. 1. 1. 1. 1. 1. 1. 1. 1. 1. 1. 1. 1. 1. 1. 1. 1. 1. 1. 1. 1.\n",
      " 1. 1. 1. 1. 1. 1. 1. 1. 1. 1. 1. 1. 1. 1. 1. 1. 1. 1. 1. 1. 1. 1. 1. 1.\n",
      " 1. 1. 1. 1. 1. 1. 1. 1. 1. 1. 1. 1. 1. 1. 1. 1. 1. 1. 1. 1. 1. 1. 1. 1.\n",
      " 1. 1. 1. 1. 1. 1. 1. 1. 1. 1. 1. 1. 1. 1. 1. 1. 1. 1. 1. 1. 1. 1. 1. 1.\n",
      " 1. 1. 1. 1. 1. 1. 1. 1. 1. 1. 1. 1. 1. 1. 1. 1. 1. 1. 1. 1. 1. 1. 1. 1.\n",
      " 1. 1. 1. 1. 1. 1. 1. 1. 1. 1. 1. 1. 1. 1. 1. 1. 1. 1. 1. 1. 1. 1. 1. 1.\n",
      " 1. 1. 1. 1. 1. 1. 1. 1. 1. 1. 1. 1. 1. 1. 1. 1. 1. 1. 1. 1. 1. 1. 1. 1.\n",
      " 1. 1. 1. 1. 1. 1. 1. 1. 1. 1. 1. 1. 1. 1. 1. 1. 1. 1. 1. 1. 1. 1. 1. 1.\n",
      " 1. 1. 1. 1. 1. 1. 1. 1. 1.]\n"
     ]
    }
   ],
   "source": [
    "tri_array = np.array(list(trigram_prob.values())).reshape((27*27, 27))\n",
    "print((tri_array > 0).all())\n",
    "print(np.sum(tri_array, axis=1))"
   ]
  },
  {
   "cell_type": "markdown",
   "id": "59d3097b",
   "metadata": {},
   "source": [
    "## After smoothing!"
   ]
  },
  {
   "cell_type": "code",
   "execution_count": 35,
   "id": "da6da329",
   "metadata": {},
   "outputs": [],
   "source": [
    "def gen_bi(c):\n",
    "    w = [bigram_prob[c + i] for i in allchar]\n",
    "    return choices(allchar, weights=w)[0]\n",
    "    \n",
    "\n",
    "def gen_tri(ab):\n",
    "    w_tri = [trigram_prob[ab + i] for i in allchar]\n",
    "    return choices(allchar, weights=w_tri)[0]   \n",
    "\n",
    "\n",
    "def gen_sen(c, num):\n",
    "    res = c + gen_bi(c)\n",
    "    for i in range(num - 2):\n",
    "        if bigram[res[-2:]] == 0:\n",
    "            t = gen_bi(res[-1])\n",
    "        else:\n",
    "            t = gen_tri(res[-2:])\n",
    "        res += t\n",
    "    return res\n",
    "\n",
    "f = open(\"sen.txt\", \"w\")\n",
    "for i in string.ascii_lowercase:\n",
    "    sentence = gen_sen(i, 1000)\n",
    "    f.write(sentence+'\\n')\n",
    "f.close()"
   ]
  },
  {
   "cell_type": "markdown",
   "id": "6f96a62f",
   "metadata": {},
   "source": [
    "## Part 2"
   ]
  },
  {
   "cell_type": "code",
   "execution_count": 36,
   "id": "23825065",
   "metadata": {},
   "outputs": [],
   "source": [
    "with open('script.txt', encoding='utf-8') as f:\n",
    "    young = f.read() \n",
    "\n",
    "dict2 = Counter(young)\n",
    "likeli = [dict2[c] / len(young) for c in allchar]\n",
    "post_young = [round(0.3*likeli[i] / (0.3*likeli[i] + 0.7*uni_list[i]), 4) for i in range(27)]\n",
    "post_hugh = [1 - post_young[i] for i in range(27)]"
   ]
  },
  {
   "cell_type": "code",
   "execution_count": 37,
   "id": "fbe75d75",
   "metadata": {},
   "outputs": [],
   "source": [
    "np.savetxt(\"q7.txt\", np.array(likeli).reshape(1,27), fmt='%.4f', delimiter=',')"
   ]
  },
  {
   "cell_type": "code",
   "execution_count": 38,
   "id": "e638f3c7",
   "metadata": {},
   "outputs": [],
   "source": [
    "np.savetxt(\"q8.txt\", np.array(post_young).reshape(1,27), fmt='%.4f', delimiter=',')"
   ]
  },
  {
   "cell_type": "code",
   "execution_count": 39,
   "id": "407a3b74",
   "metadata": {},
   "outputs": [],
   "source": [
    "predicted = []\n",
    "f = open('sen.txt','r')\n",
    "for i in range(26):\n",
    "    line = f.readline().strip('\\n')\n",
    "    counts = Counter(line)\n",
    "    sorted(counts)\n",
    "    sum_young = 0\n",
    "    sum_hugh = 0\n",
    "    for j in range(27):\n",
    "        sum_young += math.log(post_young[j])*counts[j]\n",
    "        sum_hugh += math.log(post_hugh[j])*counts[j]\n",
    "    if sum_young > sum_hugh:\n",
    "        predicted.append(1)\n",
    "    else:\n",
    "        predicted.append(0)\n",
    "f.close()"
   ]
  },
  {
   "cell_type": "code",
   "execution_count": 42,
   "id": "9fd69d73",
   "metadata": {},
   "outputs": [],
   "source": [
    "np.savetxt(\"q9.txt\", np.array(predicted).reshape(1,26), fmt='%d', delimiter=',')"
   ]
  }
 ],
 "metadata": {
  "kernelspec": {
   "display_name": "Python 3",
   "language": "python",
   "name": "python3"
  },
  "language_info": {
   "codemirror_mode": {
    "name": "ipython",
    "version": 3
   },
   "file_extension": ".py",
   "mimetype": "text/x-python",
   "name": "python",
   "nbconvert_exporter": "python",
   "pygments_lexer": "ipython3",
   "version": "3.8.8"
  }
 },
 "nbformat": 4,
 "nbformat_minor": 5
}
